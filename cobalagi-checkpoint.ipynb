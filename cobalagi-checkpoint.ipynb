{
 "cells": [
  {
   "cell_type": "code",
   "execution_count": 7,
   "metadata": {},
   "outputs": [],
   "source": [
    "import pandas as pd\n",
    "from sklearn.feature_extraction.text import TfidfVectorizer\n",
    "from sklearn.linear_model import PassiveAggressiveClassifier\n",
    "from sklearn.model_selection import train_test_split\n",
    "from sklearn.metrics import accuracy_score, confusion_matrix\n",
    "from sklearn.model_selection import cross_val_score"
   ]
  },
  {
   "cell_type": "code",
   "execution_count": 8,
   "metadata": {},
   "outputs": [
    {
     "data": {
      "text/plain": [
       "Fake    3465\n",
       "Real     766\n",
       "Name: label, dtype: int64"
      ]
     },
     "execution_count": 8,
     "metadata": {},
     "output_type": "execute_result"
    }
   ],
   "source": [
    "df=pd.read_excel(\"E:\\BDC\\Data Latih BDC.xlsx\")\n",
    "conversion_dict = {0: 'Real', 1: 'Fake'}\n",
    "df['label'] = df['label'].replace(conversion_dict)\n",
    "df.label.value_counts()"
   ]
  },
  {
   "cell_type": "code",
   "execution_count": 9,
   "metadata": {},
   "outputs": [
    {
     "data": {
      "text/html": [
       "<div>\n",
       "<style scoped>\n",
       "    .dataframe tbody tr th:only-of-type {\n",
       "        vertical-align: middle;\n",
       "    }\n",
       "\n",
       "    .dataframe tbody tr th {\n",
       "        vertical-align: top;\n",
       "    }\n",
       "\n",
       "    .dataframe thead th {\n",
       "        text-align: right;\n",
       "    }\n",
       "</style>\n",
       "<table border=\"1\" class=\"dataframe\">\n",
       "  <thead>\n",
       "    <tr style=\"text-align: right;\">\n",
       "      <th></th>\n",
       "      <th>ID</th>\n",
       "      <th>label</th>\n",
       "      <th>tanggal</th>\n",
       "      <th>judul</th>\n",
       "      <th>narasi</th>\n",
       "      <th>nama file gambar</th>\n",
       "    </tr>\n",
       "  </thead>\n",
       "  <tbody>\n",
       "    <tr>\n",
       "      <th>0</th>\n",
       "      <td>71</td>\n",
       "      <td>Fake</td>\n",
       "      <td>2020-08-17 00:00:00</td>\n",
       "      <td>Pemakaian Masker Menyebabkan Penyakit Legionna...</td>\n",
       "      <td>A caller to a radio talk show recently shared ...</td>\n",
       "      <td>71.jpg</td>\n",
       "    </tr>\n",
       "    <tr>\n",
       "      <th>1</th>\n",
       "      <td>461</td>\n",
       "      <td>Fake</td>\n",
       "      <td>2020-07-17 00:00:00</td>\n",
       "      <td>Instruksi Gubernur Jateng tentang penilangan  ...</td>\n",
       "      <td>Yth.Seluruh Anggota Grup Sesuai Instruksi Gube...</td>\n",
       "      <td>461.png</td>\n",
       "    </tr>\n",
       "    <tr>\n",
       "      <th>2</th>\n",
       "      <td>495</td>\n",
       "      <td>Fake</td>\n",
       "      <td>2020-07-13 00:00:00</td>\n",
       "      <td>Foto Jim Rohn: Jokowi adalah presiden terbaik ...</td>\n",
       "      <td>Jokowi adalah presiden terbaik dlm sejarah ban...</td>\n",
       "      <td>495.png</td>\n",
       "    </tr>\n",
       "    <tr>\n",
       "      <th>3</th>\n",
       "      <td>550</td>\n",
       "      <td>Fake</td>\n",
       "      <td>2020-07-08 00:00:00</td>\n",
       "      <td>ini bukan politik, tapi kenyataan Pak Jokowi b...</td>\n",
       "      <td>Maaf Mas2 dan Mbak2, ini bukan politik, tapi k...</td>\n",
       "      <td>550.png</td>\n",
       "    </tr>\n",
       "    <tr>\n",
       "      <th>4</th>\n",
       "      <td>681</td>\n",
       "      <td>Fake</td>\n",
       "      <td>2020-06-24 00:00:00</td>\n",
       "      <td>Foto Kadrun kalo lihat foto ini panas dingin</td>\n",
       "      <td>Kadrun kalo lihat foto ini panas dingin . .</td>\n",
       "      <td>681.jpg</td>\n",
       "    </tr>\n",
       "    <tr>\n",
       "      <th>...</th>\n",
       "      <td>...</td>\n",
       "      <td>...</td>\n",
       "      <td>...</td>\n",
       "      <td>...</td>\n",
       "      <td>...</td>\n",
       "      <td>...</td>\n",
       "    </tr>\n",
       "    <tr>\n",
       "      <th>4226</th>\n",
       "      <td>999287</td>\n",
       "      <td>Fake</td>\n",
       "      <td>2016-01-17 00:00:00</td>\n",
       "      <td>: KPK Dilarang Membawa Brimob Bersenjata Masuk...</td>\n",
       "      <td>KPK Dilarang Membawa Brimob Bersenjata Masuk G...</td>\n",
       "      <td>999287.jpg</td>\n",
       "    </tr>\n",
       "    <tr>\n",
       "      <th>4227</th>\n",
       "      <td>999472</td>\n",
       "      <td>Fake</td>\n",
       "      <td>2020-08-20 00:00:00</td>\n",
       "      <td>Foto pejabat keuangan dibawah palu arit</td>\n",
       "      <td>Jangan mau dialihkan kepada pakaian adat… FOKU...</td>\n",
       "      <td>999472.png</td>\n",
       "    </tr>\n",
       "    <tr>\n",
       "      <th>4228</th>\n",
       "      <td>999501</td>\n",
       "      <td>Fake</td>\n",
       "      <td>2020-08-17 00:00:00</td>\n",
       "      <td>Gambar Denny Siregar Musuh Warga Tasikmalaya d...</td>\n",
       "      <td>Akhir nya bisa terkenal bang denny</td>\n",
       "      <td>999501.jpg</td>\n",
       "    </tr>\n",
       "    <tr>\n",
       "      <th>4229</th>\n",
       "      <td>999848</td>\n",
       "      <td>Fake</td>\n",
       "      <td>2020-07-21 00:00:00</td>\n",
       "      <td>Kaesang: Bapak Saya dengan Kesederhaan Bisa Ni...</td>\n",
       "      <td>Bapak Saya dengan Kesederhaan Bisa Nipu Rakyat...</td>\n",
       "      <td>999848.jpg</td>\n",
       "    </tr>\n",
       "    <tr>\n",
       "      <th>4230</th>\n",
       "      <td>999860</td>\n",
       "      <td>Fake</td>\n",
       "      <td>2020-07-20 00:00:00</td>\n",
       "      <td>Laser dari termometer gun akan merusak struktu...</td>\n",
       "      <td>IN: Saya nolak. Kalau Anda mau periksa, bukan ...</td>\n",
       "      <td>999860.png</td>\n",
       "    </tr>\n",
       "  </tbody>\n",
       "</table>\n",
       "<p>4231 rows × 6 columns</p>\n",
       "</div>"
      ],
      "text/plain": [
       "          ID label              tanggal  \\\n",
       "0         71  Fake  2020-08-17 00:00:00   \n",
       "1        461  Fake  2020-07-17 00:00:00   \n",
       "2        495  Fake  2020-07-13 00:00:00   \n",
       "3        550  Fake  2020-07-08 00:00:00   \n",
       "4        681  Fake  2020-06-24 00:00:00   \n",
       "...      ...   ...                  ...   \n",
       "4226  999287  Fake  2016-01-17 00:00:00   \n",
       "4227  999472  Fake  2020-08-20 00:00:00   \n",
       "4228  999501  Fake  2020-08-17 00:00:00   \n",
       "4229  999848  Fake  2020-07-21 00:00:00   \n",
       "4230  999860  Fake  2020-07-20 00:00:00   \n",
       "\n",
       "                                                  judul  \\\n",
       "0     Pemakaian Masker Menyebabkan Penyakit Legionna...   \n",
       "1     Instruksi Gubernur Jateng tentang penilangan  ...   \n",
       "2     Foto Jim Rohn: Jokowi adalah presiden terbaik ...   \n",
       "3     ini bukan politik, tapi kenyataan Pak Jokowi b...   \n",
       "4          Foto Kadrun kalo lihat foto ini panas dingin   \n",
       "...                                                 ...   \n",
       "4226  : KPK Dilarang Membawa Brimob Bersenjata Masuk...   \n",
       "4227            Foto pejabat keuangan dibawah palu arit   \n",
       "4228  Gambar Denny Siregar Musuh Warga Tasikmalaya d...   \n",
       "4229  Kaesang: Bapak Saya dengan Kesederhaan Bisa Ni...   \n",
       "4230  Laser dari termometer gun akan merusak struktu...   \n",
       "\n",
       "                                                 narasi nama file gambar  \n",
       "0     A caller to a radio talk show recently shared ...           71.jpg  \n",
       "1     Yth.Seluruh Anggota Grup Sesuai Instruksi Gube...          461.png  \n",
       "2     Jokowi adalah presiden terbaik dlm sejarah ban...          495.png  \n",
       "3     Maaf Mas2 dan Mbak2, ini bukan politik, tapi k...          550.png  \n",
       "4           Kadrun kalo lihat foto ini panas dingin . .          681.jpg  \n",
       "...                                                 ...              ...  \n",
       "4226  KPK Dilarang Membawa Brimob Bersenjata Masuk G...       999287.jpg  \n",
       "4227  Jangan mau dialihkan kepada pakaian adat… FOKU...       999472.png  \n",
       "4228                 Akhir nya bisa terkenal bang denny       999501.jpg  \n",
       "4229  Bapak Saya dengan Kesederhaan Bisa Nipu Rakyat...       999848.jpg  \n",
       "4230  IN: Saya nolak. Kalau Anda mau periksa, bukan ...       999860.png  \n",
       "\n",
       "[4231 rows x 6 columns]"
      ]
     },
     "execution_count": 9,
     "metadata": {},
     "output_type": "execute_result"
    }
   ],
   "source": [
    "df"
   ]
  },
  {
   "cell_type": "code",
   "execution_count": 68,
   "metadata": {},
   "outputs": [],
   "source": [
    "x_train,x_test,y_train,y_test=train_test_split(df['narasi'], df['label'], test_size=0.2, random_state=7)\n",
    "tfidf_vectorizer=TfidfVectorizer(stop_words='english', max_df=0.7)"
   ]
  },
  {
   "cell_type": "code",
   "execution_count": 69,
   "metadata": {},
   "outputs": [],
   "source": [
    "vec_train=tfidf_vectorizer.fit_transform(x_train.values.astype('U'))\n",
    "vec_test=tfidf_vectorizer.transform(x_test.values.astype('U'))"
   ]
  },
  {
   "cell_type": "code",
   "execution_count": 70,
   "metadata": {},
   "outputs": [
    {
     "data": {
      "text/plain": [
       "PassiveAggressiveClassifier(max_iter=50)"
      ]
     },
     "execution_count": 70,
     "metadata": {},
     "output_type": "execute_result"
    }
   ],
   "source": [
    "pac=PassiveAggressiveClassifier(max_iter=50)\n",
    "pac.fit(vec_train,y_train)"
   ]
  },
  {
   "cell_type": "code",
   "execution_count": 71,
   "metadata": {},
   "outputs": [
    {
     "name": "stdout",
     "output_type": "stream",
     "text": [
      "PAC Accuracy: 79.1%\n"
     ]
    }
   ],
   "source": [
    "y_pred=pac.predict(vec_test)\n",
    "score=accuracy_score(y_test,y_pred)\n",
    "print(f'PAC Accuracy: {round(score*100,2)}%')"
   ]
  },
  {
   "cell_type": "code",
   "execution_count": 72,
   "metadata": {},
   "outputs": [
    {
     "data": {
      "text/plain": [
       "array([[ 59, 108],\n",
       "       [ 69, 611]], dtype=int64)"
      ]
     },
     "execution_count": 72,
     "metadata": {},
     "output_type": "execute_result"
    }
   ],
   "source": [
    "confusion_matrix(y_test,y_pred, labels=['Real', 'Fake'])"
   ]
  },
  {
   "cell_type": "code",
   "execution_count": 73,
   "metadata": {},
   "outputs": [],
   "source": [
    "X=tfidf_vectorizer.transform(df['narasi'].values.astype('U'))"
   ]
  },
  {
   "cell_type": "code",
   "execution_count": 74,
   "metadata": {},
   "outputs": [
    {
     "name": "stdout",
     "output_type": "stream",
     "text": [
      "K Fold Accuracy: 80.24%\n"
     ]
    }
   ],
   "source": [
    "scores = cross_val_score(pac, X, df['label'].values, cv=5)\n",
    "print(f'K Fold Accuracy: {round(scores.mean()*100,2)}%')"
   ]
  },
  {
   "cell_type": "code",
   "execution_count": 75,
   "metadata": {},
   "outputs": [],
   "source": [
    "def findlabel(newtext):\n",
    "    vec_newtest=tfidf_vectorizer.transform([newtext])\n",
    "    y_pred1=pac.predict(vec_newtest)\n",
    "    return y_pred1[0]"
   ]
  },
  {
   "cell_type": "code",
   "execution_count": 78,
   "metadata": {},
   "outputs": [
    {
     "data": {
      "text/plain": [
       "'Real'"
      ]
     },
     "execution_count": 78,
     "metadata": {},
     "output_type": "execute_result"
    }
   ],
   "source": [
    "findlabel('Akun dengan nama Fredi Wesley yang menggunakan foto profil personel Polres Rokan Hulu, menuliskan komentar pada sebuah status berbau sara dan ujaran kebencian.')"
   ]
  },
  {
   "cell_type": "code",
   "execution_count": null,
   "metadata": {},
   "outputs": [],
   "source": []
  },
  {
   "cell_type": "code",
   "execution_count": null,
   "metadata": {},
   "outputs": [],
   "source": []
  },
  {
   "cell_type": "code",
   "execution_count": null,
   "metadata": {},
   "outputs": [],
   "source": []
  },
  {
   "cell_type": "code",
   "execution_count": null,
   "metadata": {},
   "outputs": [],
   "source": []
  },
  {
   "cell_type": "code",
   "execution_count": null,
   "metadata": {},
   "outputs": [],
   "source": []
  }
 ],
 "metadata": {
  "kernelspec": {
   "display_name": "Python 3",
   "language": "python",
   "name": "python3"
  },
  "language_info": {
   "codemirror_mode": {
    "name": "ipython",
    "version": 3
   },
   "file_extension": ".py",
   "mimetype": "text/x-python",
   "name": "python",
   "nbconvert_exporter": "python",
   "pygments_lexer": "ipython3",
   "version": "3.8.3"
  }
 },
 "nbformat": 4,
 "nbformat_minor": 4
}

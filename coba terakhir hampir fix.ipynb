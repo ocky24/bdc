{
 "cells": [
  {
   "cell_type": "code",
   "execution_count": 1,
   "metadata": {},
   "outputs": [],
   "source": [
    "import pandas as pd\n",
    "import string\n",
    "import numpy as np\n",
    "import nltk\n",
    "import re\n",
    "\n",
    "from sklearn.feature_extraction.text import CountVectorizer\n",
    "from sklearn.model_selection import train_test_split\n",
    "from sklearn.naive_bayes import MultinomialNB\n",
    "from sklearn.feature_extraction.text import CountVectorizer\n",
    "from sklearn.feature_extraction.text import TfidfTransformer\n",
    "from sklearn import model_selection\n",
    "from sklearn.utils.multiclass import unique_labels\n",
    "from sklearn.preprocessing import OneHotEncoder\n",
    "from sklearn.preprocessing import LabelBinarizer\n",
    "from sklearn.preprocessing import OrdinalEncoder\n",
    "\n",
    "\n",
    "#hasil\n",
    "from sklearn.metrics import recall_score, accuracy_score, classification_report\n",
    "from sklearn.metrics import precision_score\n",
    "from sklearn.metrics import f1_score\n",
    "import seaborn as sns\n",
    "import matplotlib.pyplot as plt\n",
    "\n"
   ]
  },
  {
   "cell_type": "code",
   "execution_count": 2,
   "metadata": {},
   "outputs": [],
   "source": [
    "df_latih = pd.read_excel(r'D:\\big data\\Data Latih BDC.xlsx')"
   ]
  },
  {
   "cell_type": "code",
   "execution_count": 3,
   "metadata": {},
   "outputs": [
    {
     "data": {
      "text/html": [
       "<div>\n",
       "<style scoped>\n",
       "    .dataframe tbody tr th:only-of-type {\n",
       "        vertical-align: middle;\n",
       "    }\n",
       "\n",
       "    .dataframe tbody tr th {\n",
       "        vertical-align: top;\n",
       "    }\n",
       "\n",
       "    .dataframe thead th {\n",
       "        text-align: right;\n",
       "    }\n",
       "</style>\n",
       "<table border=\"1\" class=\"dataframe\">\n",
       "  <thead>\n",
       "    <tr style=\"text-align: right;\">\n",
       "      <th></th>\n",
       "      <th>ID</th>\n",
       "      <th>label</th>\n",
       "      <th>tanggal</th>\n",
       "      <th>judul</th>\n",
       "      <th>narasi</th>\n",
       "      <th>nama file gambar</th>\n",
       "    </tr>\n",
       "  </thead>\n",
       "  <tbody>\n",
       "    <tr>\n",
       "      <th>4226</th>\n",
       "      <td>999287</td>\n",
       "      <td>1</td>\n",
       "      <td>2016-01-17 00:00:00</td>\n",
       "      <td>: KPK Dilarang Membawa Brimob Bersenjata Masuk...</td>\n",
       "      <td>KPK Dilarang Membawa Brimob Bersenjata Masuk G...</td>\n",
       "      <td>999287.jpg</td>\n",
       "    </tr>\n",
       "    <tr>\n",
       "      <th>4227</th>\n",
       "      <td>999472</td>\n",
       "      <td>1</td>\n",
       "      <td>2020-08-20 00:00:00</td>\n",
       "      <td>Foto pejabat keuangan dibawah palu arit</td>\n",
       "      <td>Jangan mau dialihkan kepada pakaian adat… FOKU...</td>\n",
       "      <td>999472.png</td>\n",
       "    </tr>\n",
       "    <tr>\n",
       "      <th>4228</th>\n",
       "      <td>999501</td>\n",
       "      <td>1</td>\n",
       "      <td>2020-08-17 00:00:00</td>\n",
       "      <td>Gambar Denny Siregar Musuh Warga Tasikmalaya d...</td>\n",
       "      <td>Akhir nya bisa terkenal bang denny</td>\n",
       "      <td>999501.jpg</td>\n",
       "    </tr>\n",
       "    <tr>\n",
       "      <th>4229</th>\n",
       "      <td>999848</td>\n",
       "      <td>1</td>\n",
       "      <td>2020-07-21 00:00:00</td>\n",
       "      <td>Kaesang: Bapak Saya dengan Kesederhaan Bisa Ni...</td>\n",
       "      <td>Bapak Saya dengan Kesederhaan Bisa Nipu Rakyat...</td>\n",
       "      <td>999848.jpg</td>\n",
       "    </tr>\n",
       "    <tr>\n",
       "      <th>4230</th>\n",
       "      <td>999860</td>\n",
       "      <td>1</td>\n",
       "      <td>2020-07-20 00:00:00</td>\n",
       "      <td>Laser dari termometer gun akan merusak struktu...</td>\n",
       "      <td>IN: Saya nolak. Kalau Anda mau periksa, bukan ...</td>\n",
       "      <td>999860.png</td>\n",
       "    </tr>\n",
       "  </tbody>\n",
       "</table>\n",
       "</div>"
      ],
      "text/plain": [
       "          ID  label              tanggal  \\\n",
       "4226  999287      1  2016-01-17 00:00:00   \n",
       "4227  999472      1  2020-08-20 00:00:00   \n",
       "4228  999501      1  2020-08-17 00:00:00   \n",
       "4229  999848      1  2020-07-21 00:00:00   \n",
       "4230  999860      1  2020-07-20 00:00:00   \n",
       "\n",
       "                                                  judul  \\\n",
       "4226  : KPK Dilarang Membawa Brimob Bersenjata Masuk...   \n",
       "4227            Foto pejabat keuangan dibawah palu arit   \n",
       "4228  Gambar Denny Siregar Musuh Warga Tasikmalaya d...   \n",
       "4229  Kaesang: Bapak Saya dengan Kesederhaan Bisa Ni...   \n",
       "4230  Laser dari termometer gun akan merusak struktu...   \n",
       "\n",
       "                                                 narasi nama file gambar  \n",
       "4226  KPK Dilarang Membawa Brimob Bersenjata Masuk G...       999287.jpg  \n",
       "4227  Jangan mau dialihkan kepada pakaian adat… FOKU...       999472.png  \n",
       "4228                 Akhir nya bisa terkenal bang denny       999501.jpg  \n",
       "4229  Bapak Saya dengan Kesederhaan Bisa Nipu Rakyat...       999848.jpg  \n",
       "4230  IN: Saya nolak. Kalau Anda mau periksa, bukan ...       999860.png  "
      ]
     },
     "execution_count": 3,
     "metadata": {},
     "output_type": "execute_result"
    }
   ],
   "source": [
    "\n",
    "df_latih.tail()"
   ]
  },
  {
   "cell_type": "code",
   "execution_count": 4,
   "metadata": {},
   "outputs": [
    {
     "data": {
      "text/html": [
       "<div>\n",
       "<style scoped>\n",
       "    .dataframe tbody tr th:only-of-type {\n",
       "        vertical-align: middle;\n",
       "    }\n",
       "\n",
       "    .dataframe tbody tr th {\n",
       "        vertical-align: top;\n",
       "    }\n",
       "\n",
       "    .dataframe thead th {\n",
       "        text-align: right;\n",
       "    }\n",
       "</style>\n",
       "<table border=\"1\" class=\"dataframe\">\n",
       "  <thead>\n",
       "    <tr style=\"text-align: right;\">\n",
       "      <th></th>\n",
       "      <th>label</th>\n",
       "      <th>judul</th>\n",
       "      <th>narasi</th>\n",
       "    </tr>\n",
       "  </thead>\n",
       "  <tbody>\n",
       "    <tr>\n",
       "      <th>0</th>\n",
       "      <td>1</td>\n",
       "      <td>Pemakaian Masker Menyebabkan Penyakit Legionna...</td>\n",
       "      <td>A caller to a radio talk show recently shared ...</td>\n",
       "    </tr>\n",
       "    <tr>\n",
       "      <th>1</th>\n",
       "      <td>1</td>\n",
       "      <td>Instruksi Gubernur Jateng tentang penilangan  ...</td>\n",
       "      <td>Yth.Seluruh Anggota Grup Sesuai Instruksi Gube...</td>\n",
       "    </tr>\n",
       "    <tr>\n",
       "      <th>2</th>\n",
       "      <td>1</td>\n",
       "      <td>Foto Jim Rohn: Jokowi adalah presiden terbaik ...</td>\n",
       "      <td>Jokowi adalah presiden terbaik dlm sejarah ban...</td>\n",
       "    </tr>\n",
       "    <tr>\n",
       "      <th>3</th>\n",
       "      <td>1</td>\n",
       "      <td>ini bukan politik, tapi kenyataan Pak Jokowi b...</td>\n",
       "      <td>Maaf Mas2 dan Mbak2, ini bukan politik, tapi k...</td>\n",
       "    </tr>\n",
       "    <tr>\n",
       "      <th>4</th>\n",
       "      <td>1</td>\n",
       "      <td>Foto Kadrun kalo lihat foto ini panas dingin</td>\n",
       "      <td>Kadrun kalo lihat foto ini panas dingin . .</td>\n",
       "    </tr>\n",
       "    <tr>\n",
       "      <th>...</th>\n",
       "      <td>...</td>\n",
       "      <td>...</td>\n",
       "      <td>...</td>\n",
       "    </tr>\n",
       "    <tr>\n",
       "      <th>4226</th>\n",
       "      <td>1</td>\n",
       "      <td>: KPK Dilarang Membawa Brimob Bersenjata Masuk...</td>\n",
       "      <td>KPK Dilarang Membawa Brimob Bersenjata Masuk G...</td>\n",
       "    </tr>\n",
       "    <tr>\n",
       "      <th>4227</th>\n",
       "      <td>1</td>\n",
       "      <td>Foto pejabat keuangan dibawah palu arit</td>\n",
       "      <td>Jangan mau dialihkan kepada pakaian adat… FOKU...</td>\n",
       "    </tr>\n",
       "    <tr>\n",
       "      <th>4228</th>\n",
       "      <td>1</td>\n",
       "      <td>Gambar Denny Siregar Musuh Warga Tasikmalaya d...</td>\n",
       "      <td>Akhir nya bisa terkenal bang denny</td>\n",
       "    </tr>\n",
       "    <tr>\n",
       "      <th>4229</th>\n",
       "      <td>1</td>\n",
       "      <td>Kaesang: Bapak Saya dengan Kesederhaan Bisa Ni...</td>\n",
       "      <td>Bapak Saya dengan Kesederhaan Bisa Nipu Rakyat...</td>\n",
       "    </tr>\n",
       "    <tr>\n",
       "      <th>4230</th>\n",
       "      <td>1</td>\n",
       "      <td>Laser dari termometer gun akan merusak struktu...</td>\n",
       "      <td>IN: Saya nolak. Kalau Anda mau periksa, bukan ...</td>\n",
       "    </tr>\n",
       "  </tbody>\n",
       "</table>\n",
       "<p>4231 rows × 3 columns</p>\n",
       "</div>"
      ],
      "text/plain": [
       "      label                                              judul  \\\n",
       "0         1  Pemakaian Masker Menyebabkan Penyakit Legionna...   \n",
       "1         1  Instruksi Gubernur Jateng tentang penilangan  ...   \n",
       "2         1  Foto Jim Rohn: Jokowi adalah presiden terbaik ...   \n",
       "3         1  ini bukan politik, tapi kenyataan Pak Jokowi b...   \n",
       "4         1       Foto Kadrun kalo lihat foto ini panas dingin   \n",
       "...     ...                                                ...   \n",
       "4226      1  : KPK Dilarang Membawa Brimob Bersenjata Masuk...   \n",
       "4227      1            Foto pejabat keuangan dibawah palu arit   \n",
       "4228      1  Gambar Denny Siregar Musuh Warga Tasikmalaya d...   \n",
       "4229      1  Kaesang: Bapak Saya dengan Kesederhaan Bisa Ni...   \n",
       "4230      1  Laser dari termometer gun akan merusak struktu...   \n",
       "\n",
       "                                                 narasi  \n",
       "0     A caller to a radio talk show recently shared ...  \n",
       "1     Yth.Seluruh Anggota Grup Sesuai Instruksi Gube...  \n",
       "2     Jokowi adalah presiden terbaik dlm sejarah ban...  \n",
       "3     Maaf Mas2 dan Mbak2, ini bukan politik, tapi k...  \n",
       "4           Kadrun kalo lihat foto ini panas dingin . .  \n",
       "...                                                 ...  \n",
       "4226  KPK Dilarang Membawa Brimob Bersenjata Masuk G...  \n",
       "4227  Jangan mau dialihkan kepada pakaian adat… FOKU...  \n",
       "4228                 Akhir nya bisa terkenal bang denny  \n",
       "4229  Bapak Saya dengan Kesederhaan Bisa Nipu Rakyat...  \n",
       "4230  IN: Saya nolak. Kalau Anda mau periksa, bukan ...  \n",
       "\n",
       "[4231 rows x 3 columns]"
      ]
     },
     "execution_count": 4,
     "metadata": {},
     "output_type": "execute_result"
    }
   ],
   "source": [
    "df_latih = df_latih.drop(\"tanggal\", axis=1)\n",
    "df_latih = df_latih.drop(\"nama file gambar\", axis=1)\n",
    "df_latih = df_latih.drop(\"ID\", axis=1)\n",
    "df_latih"
   ]
  },
  {
   "cell_type": "code",
   "execution_count": 5,
   "metadata": {},
   "outputs": [],
   "source": [
    "from nltk.corpus import stopwords \n",
    "#stopwords_indonesia = stopwords.words('indonesian')"
   ]
  },
  {
   "cell_type": "code",
   "execution_count": 6,
   "metadata": {},
   "outputs": [
    {
     "data": {
      "text/html": [
       "<div>\n",
       "<style scoped>\n",
       "    .dataframe tbody tr th:only-of-type {\n",
       "        vertical-align: middle;\n",
       "    }\n",
       "\n",
       "    .dataframe tbody tr th {\n",
       "        vertical-align: top;\n",
       "    }\n",
       "\n",
       "    .dataframe thead th {\n",
       "        text-align: right;\n",
       "    }\n",
       "</style>\n",
       "<table border=\"1\" class=\"dataframe\">\n",
       "  <thead>\n",
       "    <tr style=\"text-align: right;\">\n",
       "      <th></th>\n",
       "      <th>label</th>\n",
       "      <th>judul</th>\n",
       "      <th>narasi</th>\n",
       "    </tr>\n",
       "  </thead>\n",
       "  <tbody>\n",
       "    <tr>\n",
       "      <th>0</th>\n",
       "      <td>1</td>\n",
       "      <td>Pemakaian Masker Menyebabkan Penyakit Legionna...</td>\n",
       "      <td>A caller to a radio talk show recently shared ...</td>\n",
       "    </tr>\n",
       "    <tr>\n",
       "      <th>1</th>\n",
       "      <td>1</td>\n",
       "      <td>Instruksi Gubernur Jateng tentang penilangan  ...</td>\n",
       "      <td>Yth.Seluruh Anggota Grup Sesuai Instruksi Gube...</td>\n",
       "    </tr>\n",
       "    <tr>\n",
       "      <th>2</th>\n",
       "      <td>1</td>\n",
       "      <td>Foto Jim Rohn: Jokowi adalah presiden terbaik ...</td>\n",
       "      <td>Jokowi adalah presiden terbaik dlm sejarah ban...</td>\n",
       "    </tr>\n",
       "    <tr>\n",
       "      <th>3</th>\n",
       "      <td>1</td>\n",
       "      <td>ini bukan politik, tapi kenyataan Pak Jokowi b...</td>\n",
       "      <td>Maaf Mas2 dan Mbak2, ini bukan politik, tapi k...</td>\n",
       "    </tr>\n",
       "    <tr>\n",
       "      <th>4</th>\n",
       "      <td>1</td>\n",
       "      <td>Foto Kadrun kalo lihat foto ini panas dingin</td>\n",
       "      <td>Kadrun kalo lihat foto ini panas dingin . .</td>\n",
       "    </tr>\n",
       "    <tr>\n",
       "      <th>...</th>\n",
       "      <td>...</td>\n",
       "      <td>...</td>\n",
       "      <td>...</td>\n",
       "    </tr>\n",
       "    <tr>\n",
       "      <th>4226</th>\n",
       "      <td>1</td>\n",
       "      <td>: KPK Dilarang Membawa Brimob Bersenjata Masuk...</td>\n",
       "      <td>KPK Dilarang Membawa Brimob Bersenjata Masuk G...</td>\n",
       "    </tr>\n",
       "    <tr>\n",
       "      <th>4227</th>\n",
       "      <td>1</td>\n",
       "      <td>Foto pejabat keuangan dibawah palu arit</td>\n",
       "      <td>Jangan mau dialihkan kepada pakaian adat… FOKU...</td>\n",
       "    </tr>\n",
       "    <tr>\n",
       "      <th>4228</th>\n",
       "      <td>1</td>\n",
       "      <td>Gambar Denny Siregar Musuh Warga Tasikmalaya d...</td>\n",
       "      <td>Akhir nya bisa terkenal bang denny</td>\n",
       "    </tr>\n",
       "    <tr>\n",
       "      <th>4229</th>\n",
       "      <td>1</td>\n",
       "      <td>Kaesang: Bapak Saya dengan Kesederhaan Bisa Ni...</td>\n",
       "      <td>Bapak Saya dengan Kesederhaan Bisa Nipu Rakyat...</td>\n",
       "    </tr>\n",
       "    <tr>\n",
       "      <th>4230</th>\n",
       "      <td>1</td>\n",
       "      <td>Laser dari termometer gun akan merusak struktu...</td>\n",
       "      <td>IN: Saya nolak. Kalau Anda mau periksa, bukan ...</td>\n",
       "    </tr>\n",
       "  </tbody>\n",
       "</table>\n",
       "<p>4231 rows × 3 columns</p>\n",
       "</div>"
      ],
      "text/plain": [
       "      label                                              judul  \\\n",
       "0         1  Pemakaian Masker Menyebabkan Penyakit Legionna...   \n",
       "1         1  Instruksi Gubernur Jateng tentang penilangan  ...   \n",
       "2         1  Foto Jim Rohn: Jokowi adalah presiden terbaik ...   \n",
       "3         1  ini bukan politik, tapi kenyataan Pak Jokowi b...   \n",
       "4         1       Foto Kadrun kalo lihat foto ini panas dingin   \n",
       "...     ...                                                ...   \n",
       "4226      1  : KPK Dilarang Membawa Brimob Bersenjata Masuk...   \n",
       "4227      1            Foto pejabat keuangan dibawah palu arit   \n",
       "4228      1  Gambar Denny Siregar Musuh Warga Tasikmalaya d...   \n",
       "4229      1  Kaesang: Bapak Saya dengan Kesederhaan Bisa Ni...   \n",
       "4230      1  Laser dari termometer gun akan merusak struktu...   \n",
       "\n",
       "                                                 narasi  \n",
       "0     A caller to a radio talk show recently shared ...  \n",
       "1     Yth.Seluruh Anggota Grup Sesuai Instruksi Gube...  \n",
       "2     Jokowi adalah presiden terbaik dlm sejarah ban...  \n",
       "3     Maaf Mas2 dan Mbak2, ini bukan politik, tapi k...  \n",
       "4           Kadrun kalo lihat foto ini panas dingin . .  \n",
       "...                                                 ...  \n",
       "4226  KPK Dilarang Membawa Brimob Bersenjata Masuk G...  \n",
       "4227  Jangan mau dialihkan kepada pakaian adat… FOKU...  \n",
       "4228                 Akhir nya bisa terkenal bang denny  \n",
       "4229  Bapak Saya dengan Kesederhaan Bisa Nipu Rakyat...  \n",
       "4230  IN: Saya nolak. Kalau Anda mau periksa, bukan ...  \n",
       "\n",
       "[4231 rows x 3 columns]"
      ]
     },
     "execution_count": 6,
     "metadata": {},
     "output_type": "execute_result"
    }
   ],
   "source": [
    "df_latih"
   ]
  },
  {
   "cell_type": "code",
   "execution_count": null,
   "metadata": {},
   "outputs": [],
   "source": []
  },
  {
   "cell_type": "code",
   "execution_count": null,
   "metadata": {},
   "outputs": [],
   "source": []
  },
  {
   "cell_type": "code",
   "execution_count": 7,
   "metadata": {},
   "outputs": [],
   "source": [
    "df_latih.sort_inplace=True"
   ]
  },
  {
   "cell_type": "code",
   "execution_count": 8,
   "metadata": {},
   "outputs": [
    {
     "name": "stdout",
     "output_type": "stream",
     "text": [
      "0       1\n",
      "1       1\n",
      "2       1\n",
      "3       1\n",
      "4       1\n",
      "       ..\n",
      "4226    1\n",
      "4227    1\n",
      "4228    1\n",
      "4229    1\n",
      "4230    1\n",
      "Name: label, Length: 4231, dtype: int64\n"
     ]
    }
   ],
   "source": [
    "Ylatih = df_latih['label']\n",
    "print(Ylatih)"
   ]
  },
  {
   "cell_type": "code",
   "execution_count": 9,
   "metadata": {},
   "outputs": [
    {
     "name": "stdout",
     "output_type": "stream",
     "text": [
      "[[1]\n",
      " [1]\n",
      " [1]\n",
      " ...\n",
      " [1]\n",
      " [1]\n",
      " [1]]\n"
     ]
    }
   ],
   "source": [
    "encoder = LabelBinarizer()\n",
    "Y = encoder.fit_transform(Ylatih)\n",
    "print(Y)"
   ]
  },
  {
   "cell_type": "code",
   "execution_count": 10,
   "metadata": {},
   "outputs": [
    {
     "name": "stdout",
     "output_type": "stream",
     "text": [
      "                                                  judul  \\\n",
      "0     Pemakaian Masker Menyebabkan Penyakit Legionna...   \n",
      "1     Instruksi Gubernur Jateng tentang penilangan  ...   \n",
      "2     Foto Jim Rohn: Jokowi adalah presiden terbaik ...   \n",
      "3     ini bukan politik, tapi kenyataan Pak Jokowi b...   \n",
      "4          Foto Kadrun kalo lihat foto ini panas dingin   \n",
      "...                                                 ...   \n",
      "4226  : KPK Dilarang Membawa Brimob Bersenjata Masuk...   \n",
      "4227            Foto pejabat keuangan dibawah palu arit   \n",
      "4228  Gambar Denny Siregar Musuh Warga Tasikmalaya d...   \n",
      "4229  Kaesang: Bapak Saya dengan Kesederhaan Bisa Ni...   \n",
      "4230  Laser dari termometer gun akan merusak struktu...   \n",
      "\n",
      "                                                 narasi  \n",
      "0     A caller to a radio talk show recently shared ...  \n",
      "1     Yth.Seluruh Anggota Grup Sesuai Instruksi Gube...  \n",
      "2     Jokowi adalah presiden terbaik dlm sejarah ban...  \n",
      "3     Maaf Mas2 dan Mbak2, ini bukan politik, tapi k...  \n",
      "4           Kadrun kalo lihat foto ini panas dingin . .  \n",
      "...                                                 ...  \n",
      "4226  KPK Dilarang Membawa Brimob Bersenjata Masuk G...  \n",
      "4227  Jangan mau dialihkan kepada pakaian adat… FOKU...  \n",
      "4228                 Akhir nya bisa terkenal bang denny  \n",
      "4229  Bapak Saya dengan Kesederhaan Bisa Nipu Rakyat...  \n",
      "4230  IN: Saya nolak. Kalau Anda mau periksa, bukan ...  \n",
      "\n",
      "[4231 rows x 2 columns]\n"
     ]
    }
   ],
   "source": [
    "Xlatih = df_latih.drop(\"label\", axis=1)\n",
    "print(Xlatih)"
   ]
  },
  {
   "cell_type": "code",
   "execution_count": 11,
   "metadata": {},
   "outputs": [
    {
     "name": "stdout",
     "output_type": "stream",
     "text": [
      "  (0, 2613)\t1.0\n",
      "  (0, 4339)\t1.0\n",
      "  (1, 1532)\t1.0\n",
      "  (1, 8053)\t1.0\n",
      "  (2, 1075)\t1.0\n",
      "  (2, 5938)\t1.0\n",
      "  (3, 4130)\t1.0\n",
      "  (3, 6395)\t1.0\n",
      "  (4, 1090)\t1.0\n",
      "  (4, 6019)\t1.0\n",
      "  (5, 4118)\t1.0\n",
      "  (5, 8195)\t1.0\n",
      "  (6, 2119)\t1.0\n",
      "  (6, 6302)\t1.0\n",
      "  (7, 1150)\t1.0\n",
      "  (7, 5834)\t1.0\n",
      "  (8, 1779)\t1.0\n",
      "  (8, 7036)\t1.0\n",
      "  (9, 3883)\t1.0\n",
      "  (9, 7035)\t1.0\n",
      "  (10, 317)\t1.0\n",
      "  (10, 4447)\t1.0\n",
      "  (11, 1477)\t1.0\n",
      "  (11, 4788)\t1.0\n",
      "  (12, 876)\t1.0\n",
      "  :\t:\n",
      "  (4218, 6301)\t1.0\n",
      "  (4219, 2427)\t1.0\n",
      "  (4219, 6706)\t1.0\n",
      "  (4220, 2259)\t1.0\n",
      "  (4220, 4904)\t1.0\n",
      "  (4221, 1797)\t1.0\n",
      "  (4221, 6095)\t1.0\n",
      "  (4222, 2709)\t1.0\n",
      "  (4222, 6926)\t1.0\n",
      "  (4223, 117)\t1.0\n",
      "  (4223, 6124)\t1.0\n",
      "  (4224, 326)\t1.0\n",
      "  (4224, 4455)\t1.0\n",
      "  (4225, 1597)\t1.0\n",
      "  (4225, 5920)\t1.0\n",
      "  (4226, 111)\t1.0\n",
      "  (4226, 5998)\t1.0\n",
      "  (4227, 1233)\t1.0\n",
      "  (4227, 5905)\t1.0\n",
      "  (4228, 1266)\t1.0\n",
      "  (4228, 4437)\t1.0\n",
      "  (4229, 1751)\t1.0\n",
      "  (4229, 4744)\t1.0\n",
      "  (4230, 2057)\t1.0\n",
      "  (4230, 5591)\t1.0\n",
      "(4231, 8428)\n"
     ]
    }
   ],
   "source": [
    "tfidf_transformer = OneHotEncoder()\n",
    "X = tfidf_transformer.fit_transform(Xlatih)\n",
    "print(X)\n",
    "print(X.shape)"
   ]
  },
  {
   "cell_type": "code",
   "execution_count": 12,
   "metadata": {},
   "outputs": [
    {
     "name": "stdout",
     "output_type": "stream",
     "text": [
      "(2961, 8428)\n",
      "(2961, 1)\n",
      "(1270, 8428)\n",
      "(1270, 1)\n"
     ]
    }
   ],
   "source": [
    "X_train, X_test, Y_train, Y_test = train_test_split(X, Y, test_size=0.3, random_state=17)\n",
    "print(X_train.shape)\n",
    "print(Y_train.shape)\n",
    "print(X_test.shape)\n",
    "print(Y_test.shape)"
   ]
  },
  {
   "cell_type": "code",
   "execution_count": 13,
   "metadata": {},
   "outputs": [
    {
     "name": "stdout",
     "output_type": "stream",
     "text": [
      "MultinomialNB()\n"
     ]
    }
   ],
   "source": [
    "NaiveBayes = MultinomialNB().fit(X_train,np.ravel(Y_train,order='C'))\n",
    "print(NaiveBayes)"
   ]
  },
  {
   "cell_type": "code",
   "execution_count": 14,
   "metadata": {},
   "outputs": [
    {
     "name": "stdout",
     "output_type": "stream",
     "text": [
      "[1 1 1 ... 1 1 1]\n",
      "0.8433070866141732\n"
     ]
    }
   ],
   "source": [
    "prediction = NaiveBayes.predict(X_test)\n",
    "accuracy = accuracy_score(Y_test, prediction)\n",
    "print(prediction)\n",
    "print(accuracy)"
   ]
  },
  {
   "cell_type": "code",
   "execution_count": 15,
   "metadata": {},
   "outputs": [],
   "source": [
    "classifier = NaiveBayes"
   ]
  },
  {
   "cell_type": "code",
   "execution_count": 16,
   "metadata": {},
   "outputs": [
    {
     "name": "stdout",
     "output_type": "stream",
     "text": [
      "[1 1 1 ... 1 1 1]\n"
     ]
    }
   ],
   "source": [
    "Y_predict = classifier.predict(X_test)\n",
    "print(Y_predict)"
   ]
  },
  {
   "cell_type": "code",
   "execution_count": 17,
   "metadata": {},
   "outputs": [
    {
     "data": {
      "text/plain": [
       "0.843183609141056"
      ]
     },
     "execution_count": 17,
     "metadata": {},
     "output_type": "execute_result"
    }
   ],
   "source": [
    "precision_score(Y_test, classifier.predict(X_test))"
   ]
  },
  {
   "cell_type": "code",
   "execution_count": 18,
   "metadata": {},
   "outputs": [
    {
     "data": {
      "text/plain": [
       "0.9149209063702436"
      ]
     },
     "execution_count": 18,
     "metadata": {},
     "output_type": "execute_result"
    }
   ],
   "source": [
    "f1_score(Y_test, classifier.predict(X_test))"
   ]
  },
  {
   "cell_type": "code",
   "execution_count": null,
   "metadata": {},
   "outputs": [],
   "source": []
  },
  {
   "cell_type": "code",
   "execution_count": 19,
   "metadata": {},
   "outputs": [
    {
     "data": {
      "text/html": [
       "<div>\n",
       "<style scoped>\n",
       "    .dataframe tbody tr th:only-of-type {\n",
       "        vertical-align: middle;\n",
       "    }\n",
       "\n",
       "    .dataframe tbody tr th {\n",
       "        vertical-align: top;\n",
       "    }\n",
       "\n",
       "    .dataframe thead th {\n",
       "        text-align: right;\n",
       "    }\n",
       "</style>\n",
       "<table border=\"1\" class=\"dataframe\">\n",
       "  <thead>\n",
       "    <tr style=\"text-align: right;\">\n",
       "      <th></th>\n",
       "      <th>ID</th>\n",
       "      <th>tanggal</th>\n",
       "      <th>judul</th>\n",
       "      <th>narasi</th>\n",
       "      <th>nama file gambar</th>\n",
       "    </tr>\n",
       "  </thead>\n",
       "  <tbody>\n",
       "    <tr>\n",
       "      <th>0</th>\n",
       "      <td>238057</td>\n",
       "      <td>2020-07-13 00:00:00</td>\n",
       "      <td>Narasi Tito Karnavian Berideologi Komunis Kare...</td>\n",
       "      <td>TITO KARNIVAN ITU BERIDIOLOGI KOMUNIS DIA BISA...</td>\n",
       "      <td>238057.jpg</td>\n",
       "    </tr>\n",
       "    <tr>\n",
       "      <th>1</th>\n",
       "      <td>238158</td>\n",
       "      <td>2020-07-06 00:00:00</td>\n",
       "      <td>Anies: Seberat beratnya Pekerjaan Akan terasa ...</td>\n",
       "      <td>Seberat beratnya Pekerjaan Akan terasa ringan ...</td>\n",
       "      <td>238158.jpg</td>\n",
       "    </tr>\n",
       "    <tr>\n",
       "      <th>2</th>\n",
       "      <td>238865</td>\n",
       "      <td>2020-04-22 00:00:00</td>\n",
       "      <td>Hindu di india Melemparkan Patung Buatan Merek...</td>\n",
       "      <td>Hindu di india melemparkan patung buatan merek...</td>\n",
       "      <td>238865.jpg</td>\n",
       "    </tr>\n",
       "    <tr>\n",
       "      <th>3</th>\n",
       "      <td>248298</td>\n",
       "      <td>2019-10-22 00:00:00</td>\n",
       "      <td>RSCM Praktekkan Penyedotan Plug  Vena/Saluran ...</td>\n",
       "      <td>Mulai Hari ini di RSCM mulai diPraktekkan Peny...</td>\n",
       "      <td>248298.jpg</td>\n",
       "    </tr>\n",
       "    <tr>\n",
       "      <th>4</th>\n",
       "      <td>255176</td>\n",
       "      <td>2020-05-01 00:00:00</td>\n",
       "      <td>Permohonan Kelonggaran Angsuran ke OJK</td>\n",
       "      <td>Untuk sekedar info, Bagi anda yg punya ansuran...</td>\n",
       "      <td>255176.jpg</td>\n",
       "    </tr>\n",
       "  </tbody>\n",
       "</table>\n",
       "</div>"
      ],
      "text/plain": [
       "       ID              tanggal  \\\n",
       "0  238057  2020-07-13 00:00:00   \n",
       "1  238158  2020-07-06 00:00:00   \n",
       "2  238865  2020-04-22 00:00:00   \n",
       "3  248298  2019-10-22 00:00:00   \n",
       "4  255176  2020-05-01 00:00:00   \n",
       "\n",
       "                                               judul  \\\n",
       "0  Narasi Tito Karnavian Berideologi Komunis Kare...   \n",
       "1  Anies: Seberat beratnya Pekerjaan Akan terasa ...   \n",
       "2  Hindu di india Melemparkan Patung Buatan Merek...   \n",
       "3  RSCM Praktekkan Penyedotan Plug  Vena/Saluran ...   \n",
       "4             Permohonan Kelonggaran Angsuran ke OJK   \n",
       "\n",
       "                                              narasi nama file gambar  \n",
       "0  TITO KARNIVAN ITU BERIDIOLOGI KOMUNIS DIA BISA...       238057.jpg  \n",
       "1  Seberat beratnya Pekerjaan Akan terasa ringan ...       238158.jpg  \n",
       "2  Hindu di india melemparkan patung buatan merek...       238865.jpg  \n",
       "3  Mulai Hari ini di RSCM mulai diPraktekkan Peny...       248298.jpg  \n",
       "4  Untuk sekedar info, Bagi anda yg punya ansuran...       255176.jpg  "
      ]
     },
     "execution_count": 19,
     "metadata": {},
     "output_type": "execute_result"
    }
   ],
   "source": [
    "#Prediksi\n",
    "\n",
    "df_uji=pd.read_excel(r'D:\\big data\\data uji BDC.xlsx')\n",
    "df_uji.head()"
   ]
  },
  {
   "cell_type": "code",
   "execution_count": 20,
   "metadata": {},
   "outputs": [
    {
     "data": {
      "text/html": [
       "<div>\n",
       "<style scoped>\n",
       "    .dataframe tbody tr th:only-of-type {\n",
       "        vertical-align: middle;\n",
       "    }\n",
       "\n",
       "    .dataframe tbody tr th {\n",
       "        vertical-align: top;\n",
       "    }\n",
       "\n",
       "    .dataframe thead th {\n",
       "        text-align: right;\n",
       "    }\n",
       "</style>\n",
       "<table border=\"1\" class=\"dataframe\">\n",
       "  <thead>\n",
       "    <tr style=\"text-align: right;\">\n",
       "      <th></th>\n",
       "      <th>ID</th>\n",
       "      <th>judul</th>\n",
       "      <th>narasi</th>\n",
       "    </tr>\n",
       "  </thead>\n",
       "  <tbody>\n",
       "    <tr>\n",
       "      <th>0</th>\n",
       "      <td>238057</td>\n",
       "      <td>Narasi Tito Karnavian Berideologi Komunis Kare...</td>\n",
       "      <td>TITO KARNIVAN ITU BERIDIOLOGI KOMUNIS DIA BISA...</td>\n",
       "    </tr>\n",
       "    <tr>\n",
       "      <th>1</th>\n",
       "      <td>238158</td>\n",
       "      <td>Anies: Seberat beratnya Pekerjaan Akan terasa ...</td>\n",
       "      <td>Seberat beratnya Pekerjaan Akan terasa ringan ...</td>\n",
       "    </tr>\n",
       "    <tr>\n",
       "      <th>2</th>\n",
       "      <td>238865</td>\n",
       "      <td>Hindu di india Melemparkan Patung Buatan Merek...</td>\n",
       "      <td>Hindu di india melemparkan patung buatan merek...</td>\n",
       "    </tr>\n",
       "    <tr>\n",
       "      <th>3</th>\n",
       "      <td>248298</td>\n",
       "      <td>RSCM Praktekkan Penyedotan Plug  Vena/Saluran ...</td>\n",
       "      <td>Mulai Hari ini di RSCM mulai diPraktekkan Peny...</td>\n",
       "    </tr>\n",
       "    <tr>\n",
       "      <th>4</th>\n",
       "      <td>255176</td>\n",
       "      <td>Permohonan Kelonggaran Angsuran ke OJK</td>\n",
       "      <td>Untuk sekedar info, Bagi anda yg punya ansuran...</td>\n",
       "    </tr>\n",
       "    <tr>\n",
       "      <th>...</th>\n",
       "      <td>...</td>\n",
       "      <td>...</td>\n",
       "      <td>...</td>\n",
       "    </tr>\n",
       "    <tr>\n",
       "      <th>465</th>\n",
       "      <td>206021</td>\n",
       "      <td>Dijemput oleh Tim Medis, Kakak Beradik Usia 8 ...</td>\n",
       "      <td>DiTangerang, dua bersaudara kakak beradik usia...</td>\n",
       "    </tr>\n",
       "    <tr>\n",
       "      <th>466</th>\n",
       "      <td>219874</td>\n",
       "      <td>: Pertanda Alam, Kera Putih Mulai Turun Dari G...</td>\n",
       "      <td>Pertanda Alam, Kera Putih Mulai Turun Dari Gun...</td>\n",
       "    </tr>\n",
       "    <tr>\n",
       "      <th>467</th>\n",
       "      <td>222802</td>\n",
       "      <td>Pasar Wameo dan Karya Nugraha di Tutup selama ...</td>\n",
       "      <td>Assalamu Alaikum …\\n \\n  Info dari pedagang pa...</td>\n",
       "    </tr>\n",
       "    <tr>\n",
       "      <th>468</th>\n",
       "      <td>226020</td>\n",
       "      <td>Klarifikasi KPK Terkait Foto Setya Novanto Tan...</td>\n",
       "      <td>Secara tidak sengaja sekitar pukul 06.00 WIB d...</td>\n",
       "    </tr>\n",
       "    <tr>\n",
       "      <th>469</th>\n",
       "      <td>232887</td>\n",
       "      <td>Erdogan Tidak Pernah Akui Kemenangan Jokowi</td>\n",
       "      <td>Artikel dalam laman daring aljazera.online ber...</td>\n",
       "    </tr>\n",
       "  </tbody>\n",
       "</table>\n",
       "<p>470 rows × 3 columns</p>\n",
       "</div>"
      ],
      "text/plain": [
       "         ID                                              judul  \\\n",
       "0    238057  Narasi Tito Karnavian Berideologi Komunis Kare...   \n",
       "1    238158  Anies: Seberat beratnya Pekerjaan Akan terasa ...   \n",
       "2    238865  Hindu di india Melemparkan Patung Buatan Merek...   \n",
       "3    248298  RSCM Praktekkan Penyedotan Plug  Vena/Saluran ...   \n",
       "4    255176             Permohonan Kelonggaran Angsuran ke OJK   \n",
       "..      ...                                                ...   \n",
       "465  206021  Dijemput oleh Tim Medis, Kakak Beradik Usia 8 ...   \n",
       "466  219874  : Pertanda Alam, Kera Putih Mulai Turun Dari G...   \n",
       "467  222802  Pasar Wameo dan Karya Nugraha di Tutup selama ...   \n",
       "468  226020  Klarifikasi KPK Terkait Foto Setya Novanto Tan...   \n",
       "469  232887        Erdogan Tidak Pernah Akui Kemenangan Jokowi   \n",
       "\n",
       "                                                narasi  \n",
       "0    TITO KARNIVAN ITU BERIDIOLOGI KOMUNIS DIA BISA...  \n",
       "1    Seberat beratnya Pekerjaan Akan terasa ringan ...  \n",
       "2    Hindu di india melemparkan patung buatan merek...  \n",
       "3    Mulai Hari ini di RSCM mulai diPraktekkan Peny...  \n",
       "4    Untuk sekedar info, Bagi anda yg punya ansuran...  \n",
       "..                                                 ...  \n",
       "465  DiTangerang, dua bersaudara kakak beradik usia...  \n",
       "466  Pertanda Alam, Kera Putih Mulai Turun Dari Gun...  \n",
       "467  Assalamu Alaikum …\\n \\n  Info dari pedagang pa...  \n",
       "468  Secara tidak sengaja sekitar pukul 06.00 WIB d...  \n",
       "469  Artikel dalam laman daring aljazera.online ber...  \n",
       "\n",
       "[470 rows x 3 columns]"
      ]
     },
     "execution_count": 20,
     "metadata": {},
     "output_type": "execute_result"
    }
   ],
   "source": [
    "df_uji = df_uji.drop(\"tanggal\", axis=1)\n",
    "df_uji = df_uji.drop(\"nama file gambar\", axis=1)\n",
    "df_uji"
   ]
  },
  {
   "cell_type": "code",
   "execution_count": 21,
   "metadata": {},
   "outputs": [
    {
     "name": "stdout",
     "output_type": "stream",
     "text": [
      "                                                 judul  \\\n",
      "0    Narasi Tito Karnavian Berideologi Komunis Kare...   \n",
      "1    Anies: Seberat beratnya Pekerjaan Akan terasa ...   \n",
      "2    Hindu di india Melemparkan Patung Buatan Merek...   \n",
      "3    RSCM Praktekkan Penyedotan Plug  Vena/Saluran ...   \n",
      "4               Permohonan Kelonggaran Angsuran ke OJK   \n",
      "..                                                 ...   \n",
      "465  Dijemput oleh Tim Medis, Kakak Beradik Usia 8 ...   \n",
      "466  : Pertanda Alam, Kera Putih Mulai Turun Dari G...   \n",
      "467  Pasar Wameo dan Karya Nugraha di Tutup selama ...   \n",
      "468  Klarifikasi KPK Terkait Foto Setya Novanto Tan...   \n",
      "469        Erdogan Tidak Pernah Akui Kemenangan Jokowi   \n",
      "\n",
      "                                                narasi  \n",
      "0    TITO KARNIVAN ITU BERIDIOLOGI KOMUNIS DIA BISA...  \n",
      "1    Seberat beratnya Pekerjaan Akan terasa ringan ...  \n",
      "2    Hindu di india melemparkan patung buatan merek...  \n",
      "3    Mulai Hari ini di RSCM mulai diPraktekkan Peny...  \n",
      "4    Untuk sekedar info, Bagi anda yg punya ansuran...  \n",
      "..                                                 ...  \n",
      "465  DiTangerang, dua bersaudara kakak beradik usia...  \n",
      "466  Pertanda Alam, Kera Putih Mulai Turun Dari Gun...  \n",
      "467  Assalamu Alaikum …\\n \\n  Info dari pedagang pa...  \n",
      "468  Secara tidak sengaja sekitar pukul 06.00 WIB d...  \n",
      "469  Artikel dalam laman daring aljazera.online ber...  \n",
      "\n",
      "[470 rows x 2 columns]\n"
     ]
    }
   ],
   "source": [
    "Xlatih2 = df_uji.drop(\"ID\", axis=1)\n",
    "print(Xlatih2)"
   ]
  },
  {
   "cell_type": "code",
   "execution_count": 25,
   "metadata": {},
   "outputs": [
    {
     "name": "stdout",
     "output_type": "stream",
     "text": [
      "  (0, 259)\t1.0\n",
      "  (0, 865)\t1.0\n",
      "  (1, 40)\t1.0\n",
      "  (1, 825)\t1.0\n",
      "  (2, 160)\t1.0\n",
      "  (2, 622)\t1.0\n",
      "  (3, 331)\t1.0\n",
      "  (3, 741)\t1.0\n",
      "  (4, 306)\t1.0\n",
      "  (4, 888)\t1.0\n",
      "  (5, 27)\t1.0\n",
      "  (5, 513)\t1.0\n",
      "  (6, 364)\t1.0\n",
      "  (6, 721)\t1.0\n",
      "  (7, 313)\t1.0\n",
      "  (7, 707)\t1.0\n",
      "  (8, 288)\t1.0\n",
      "  (8, 754)\t1.0\n",
      "  (9, 88)\t1.0\n",
      "  (9, 527)\t1.0\n",
      "  (10, 70)\t1.0\n",
      "  (10, 730)\t1.0\n",
      "  (11, 251)\t1.0\n",
      "  (11, 592)\t1.0\n",
      "  (12, 340)\t1.0\n",
      "  :\t:\n",
      "  (457, 783)\t1.0\n",
      "  (458, 156)\t1.0\n",
      "  (458, 555)\t1.0\n",
      "  (459, 131)\t1.0\n",
      "  (459, 801)\t1.0\n",
      "  (460, 394)\t1.0\n",
      "  (460, 879)\t1.0\n",
      "  (461, 126)\t1.0\n",
      "  (461, 838)\t1.0\n",
      "  (462, 332)\t1.0\n",
      "  (462, 687)\t1.0\n",
      "  (463, 234)\t1.0\n",
      "  (463, 657)\t1.0\n",
      "  (464, 115)\t1.0\n",
      "  (464, 600)\t1.0\n",
      "  (465, 95)\t1.0\n",
      "  (465, 579)\t1.0\n",
      "  (466, 16)\t1.0\n",
      "  (466, 791)\t1.0\n",
      "  (467, 282)\t1.0\n",
      "  (467, 511)\t1.0\n",
      "  (468, 218)\t1.0\n",
      "  (468, 829)\t1.0\n",
      "  (469, 109)\t1.0\n",
      "  (469, 510)\t1.0\n",
      "(470, 939)\n"
     ]
    }
   ],
   "source": [
    "tfidf_transformer = OneHotEncoder()\n",
    "A = tfidf_transformer.fit_transform(Xlatih2)\n",
    "print(A)\n",
    "print(A.shape)"
   ]
  },
  {
   "cell_type": "code",
   "execution_count": null,
   "metadata": {},
   "outputs": [],
   "source": []
  },
  {
   "cell_type": "code",
   "execution_count": 26,
   "metadata": {},
   "outputs": [
    {
     "ename": "ValueError",
     "evalue": "dimension mismatch",
     "output_type": "error",
     "traceback": [
      "\u001b[1;31m---------------------------------------------------------------------------\u001b[0m",
      "\u001b[1;31mValueError\u001b[0m                                Traceback (most recent call last)",
      "\u001b[1;32m<ipython-input-26-578ec43a8b2e>\u001b[0m in \u001b[0;36m<module>\u001b[1;34m\u001b[0m\n\u001b[1;32m----> 1\u001b[1;33m \u001b[0mprediction\u001b[0m \u001b[1;33m=\u001b[0m \u001b[0mNaiveBayes\u001b[0m\u001b[1;33m.\u001b[0m\u001b[0mpredict\u001b[0m\u001b[1;33m(\u001b[0m\u001b[0mA\u001b[0m\u001b[1;33m)\u001b[0m\u001b[1;33m\u001b[0m\u001b[1;33m\u001b[0m\u001b[0m\n\u001b[0m\u001b[0;32m      2\u001b[0m \u001b[0mprint\u001b[0m\u001b[1;33m(\u001b[0m\u001b[0mprediction\u001b[0m\u001b[1;33m)\u001b[0m\u001b[1;33m\u001b[0m\u001b[1;33m\u001b[0m\u001b[0m\n",
      "\u001b[1;32mD:\\anaconda\\lib\\site-packages\\sklearn\\naive_bayes.py\u001b[0m in \u001b[0;36mpredict\u001b[1;34m(self, X)\u001b[0m\n\u001b[0;32m     76\u001b[0m         \u001b[0mcheck_is_fitted\u001b[0m\u001b[1;33m(\u001b[0m\u001b[0mself\u001b[0m\u001b[1;33m)\u001b[0m\u001b[1;33m\u001b[0m\u001b[1;33m\u001b[0m\u001b[0m\n\u001b[0;32m     77\u001b[0m         \u001b[0mX\u001b[0m \u001b[1;33m=\u001b[0m \u001b[0mself\u001b[0m\u001b[1;33m.\u001b[0m\u001b[0m_check_X\u001b[0m\u001b[1;33m(\u001b[0m\u001b[0mX\u001b[0m\u001b[1;33m)\u001b[0m\u001b[1;33m\u001b[0m\u001b[1;33m\u001b[0m\u001b[0m\n\u001b[1;32m---> 78\u001b[1;33m         \u001b[0mjll\u001b[0m \u001b[1;33m=\u001b[0m \u001b[0mself\u001b[0m\u001b[1;33m.\u001b[0m\u001b[0m_joint_log_likelihood\u001b[0m\u001b[1;33m(\u001b[0m\u001b[0mX\u001b[0m\u001b[1;33m)\u001b[0m\u001b[1;33m\u001b[0m\u001b[1;33m\u001b[0m\u001b[0m\n\u001b[0m\u001b[0;32m     79\u001b[0m         \u001b[1;32mreturn\u001b[0m \u001b[0mself\u001b[0m\u001b[1;33m.\u001b[0m\u001b[0mclasses_\u001b[0m\u001b[1;33m[\u001b[0m\u001b[0mnp\u001b[0m\u001b[1;33m.\u001b[0m\u001b[0margmax\u001b[0m\u001b[1;33m(\u001b[0m\u001b[0mjll\u001b[0m\u001b[1;33m,\u001b[0m \u001b[0maxis\u001b[0m\u001b[1;33m=\u001b[0m\u001b[1;36m1\u001b[0m\u001b[1;33m)\u001b[0m\u001b[1;33m]\u001b[0m\u001b[1;33m\u001b[0m\u001b[1;33m\u001b[0m\u001b[0m\n\u001b[0;32m     80\u001b[0m \u001b[1;33m\u001b[0m\u001b[0m\n",
      "\u001b[1;32mD:\\anaconda\\lib\\site-packages\\sklearn\\naive_bayes.py\u001b[0m in \u001b[0;36m_joint_log_likelihood\u001b[1;34m(self, X)\u001b[0m\n\u001b[0;32m    775\u001b[0m     \u001b[1;32mdef\u001b[0m \u001b[0m_joint_log_likelihood\u001b[0m\u001b[1;33m(\u001b[0m\u001b[0mself\u001b[0m\u001b[1;33m,\u001b[0m \u001b[0mX\u001b[0m\u001b[1;33m)\u001b[0m\u001b[1;33m:\u001b[0m\u001b[1;33m\u001b[0m\u001b[1;33m\u001b[0m\u001b[0m\n\u001b[0;32m    776\u001b[0m         \u001b[1;34m\"\"\"Calculate the posterior log probability of the samples X\"\"\"\u001b[0m\u001b[1;33m\u001b[0m\u001b[1;33m\u001b[0m\u001b[0m\n\u001b[1;32m--> 777\u001b[1;33m         return (safe_sparse_dot(X, self.feature_log_prob_.T) +\n\u001b[0m\u001b[0;32m    778\u001b[0m                 self.class_log_prior_)\n\u001b[0;32m    779\u001b[0m \u001b[1;33m\u001b[0m\u001b[0m\n",
      "\u001b[1;32mD:\\anaconda\\lib\\site-packages\\sklearn\\utils\\validation.py\u001b[0m in \u001b[0;36minner_f\u001b[1;34m(*args, **kwargs)\u001b[0m\n\u001b[0;32m     71\u001b[0m                           FutureWarning)\n\u001b[0;32m     72\u001b[0m         \u001b[0mkwargs\u001b[0m\u001b[1;33m.\u001b[0m\u001b[0mupdate\u001b[0m\u001b[1;33m(\u001b[0m\u001b[1;33m{\u001b[0m\u001b[0mk\u001b[0m\u001b[1;33m:\u001b[0m \u001b[0marg\u001b[0m \u001b[1;32mfor\u001b[0m \u001b[0mk\u001b[0m\u001b[1;33m,\u001b[0m \u001b[0marg\u001b[0m \u001b[1;32min\u001b[0m \u001b[0mzip\u001b[0m\u001b[1;33m(\u001b[0m\u001b[0msig\u001b[0m\u001b[1;33m.\u001b[0m\u001b[0mparameters\u001b[0m\u001b[1;33m,\u001b[0m \u001b[0margs\u001b[0m\u001b[1;33m)\u001b[0m\u001b[1;33m}\u001b[0m\u001b[1;33m)\u001b[0m\u001b[1;33m\u001b[0m\u001b[1;33m\u001b[0m\u001b[0m\n\u001b[1;32m---> 73\u001b[1;33m         \u001b[1;32mreturn\u001b[0m \u001b[0mf\u001b[0m\u001b[1;33m(\u001b[0m\u001b[1;33m**\u001b[0m\u001b[0mkwargs\u001b[0m\u001b[1;33m)\u001b[0m\u001b[1;33m\u001b[0m\u001b[1;33m\u001b[0m\u001b[0m\n\u001b[0m\u001b[0;32m     74\u001b[0m     \u001b[1;32mreturn\u001b[0m \u001b[0minner_f\u001b[0m\u001b[1;33m\u001b[0m\u001b[1;33m\u001b[0m\u001b[0m\n\u001b[0;32m     75\u001b[0m \u001b[1;33m\u001b[0m\u001b[0m\n",
      "\u001b[1;32mD:\\anaconda\\lib\\site-packages\\sklearn\\utils\\extmath.py\u001b[0m in \u001b[0;36msafe_sparse_dot\u001b[1;34m(a, b, dense_output)\u001b[0m\n\u001b[0;32m    151\u001b[0m             \u001b[0mret\u001b[0m \u001b[1;33m=\u001b[0m \u001b[0mnp\u001b[0m\u001b[1;33m.\u001b[0m\u001b[0mdot\u001b[0m\u001b[1;33m(\u001b[0m\u001b[0ma\u001b[0m\u001b[1;33m,\u001b[0m \u001b[0mb\u001b[0m\u001b[1;33m)\u001b[0m\u001b[1;33m\u001b[0m\u001b[1;33m\u001b[0m\u001b[0m\n\u001b[0;32m    152\u001b[0m     \u001b[1;32melse\u001b[0m\u001b[1;33m:\u001b[0m\u001b[1;33m\u001b[0m\u001b[1;33m\u001b[0m\u001b[0m\n\u001b[1;32m--> 153\u001b[1;33m         \u001b[0mret\u001b[0m \u001b[1;33m=\u001b[0m \u001b[0ma\u001b[0m \u001b[1;33m@\u001b[0m \u001b[0mb\u001b[0m\u001b[1;33m\u001b[0m\u001b[1;33m\u001b[0m\u001b[0m\n\u001b[0m\u001b[0;32m    154\u001b[0m \u001b[1;33m\u001b[0m\u001b[0m\n\u001b[0;32m    155\u001b[0m     if (sparse.issparse(a) and sparse.issparse(b)\n",
      "\u001b[1;32mD:\\anaconda\\lib\\site-packages\\scipy\\sparse\\base.py\u001b[0m in \u001b[0;36m__matmul__\u001b[1;34m(self, other)\u001b[0m\n\u001b[0;32m    558\u001b[0m             raise ValueError(\"Scalar operands are not allowed, \"\n\u001b[0;32m    559\u001b[0m                              \"use '*' instead\")\n\u001b[1;32m--> 560\u001b[1;33m         \u001b[1;32mreturn\u001b[0m \u001b[0mself\u001b[0m\u001b[1;33m.\u001b[0m\u001b[0m__mul__\u001b[0m\u001b[1;33m(\u001b[0m\u001b[0mother\u001b[0m\u001b[1;33m)\u001b[0m\u001b[1;33m\u001b[0m\u001b[1;33m\u001b[0m\u001b[0m\n\u001b[0m\u001b[0;32m    561\u001b[0m \u001b[1;33m\u001b[0m\u001b[0m\n\u001b[0;32m    562\u001b[0m     \u001b[1;32mdef\u001b[0m \u001b[0m__rmatmul__\u001b[0m\u001b[1;33m(\u001b[0m\u001b[0mself\u001b[0m\u001b[1;33m,\u001b[0m \u001b[0mother\u001b[0m\u001b[1;33m)\u001b[0m\u001b[1;33m:\u001b[0m\u001b[1;33m\u001b[0m\u001b[1;33m\u001b[0m\u001b[0m\n",
      "\u001b[1;32mD:\\anaconda\\lib\\site-packages\\scipy\\sparse\\base.py\u001b[0m in \u001b[0;36m__mul__\u001b[1;34m(self, other)\u001b[0m\n\u001b[0;32m    514\u001b[0m \u001b[1;33m\u001b[0m\u001b[0m\n\u001b[0;32m    515\u001b[0m             \u001b[1;32mif\u001b[0m \u001b[0mother\u001b[0m\u001b[1;33m.\u001b[0m\u001b[0mshape\u001b[0m\u001b[1;33m[\u001b[0m\u001b[1;36m0\u001b[0m\u001b[1;33m]\u001b[0m \u001b[1;33m!=\u001b[0m \u001b[0mself\u001b[0m\u001b[1;33m.\u001b[0m\u001b[0mshape\u001b[0m\u001b[1;33m[\u001b[0m\u001b[1;36m1\u001b[0m\u001b[1;33m]\u001b[0m\u001b[1;33m:\u001b[0m\u001b[1;33m\u001b[0m\u001b[1;33m\u001b[0m\u001b[0m\n\u001b[1;32m--> 516\u001b[1;33m                 \u001b[1;32mraise\u001b[0m \u001b[0mValueError\u001b[0m\u001b[1;33m(\u001b[0m\u001b[1;34m'dimension mismatch'\u001b[0m\u001b[1;33m)\u001b[0m\u001b[1;33m\u001b[0m\u001b[1;33m\u001b[0m\u001b[0m\n\u001b[0m\u001b[0;32m    517\u001b[0m \u001b[1;33m\u001b[0m\u001b[0m\n\u001b[0;32m    518\u001b[0m             \u001b[0mresult\u001b[0m \u001b[1;33m=\u001b[0m \u001b[0mself\u001b[0m\u001b[1;33m.\u001b[0m\u001b[0m_mul_multivector\u001b[0m\u001b[1;33m(\u001b[0m\u001b[0mnp\u001b[0m\u001b[1;33m.\u001b[0m\u001b[0masarray\u001b[0m\u001b[1;33m(\u001b[0m\u001b[0mother\u001b[0m\u001b[1;33m)\u001b[0m\u001b[1;33m)\u001b[0m\u001b[1;33m\u001b[0m\u001b[1;33m\u001b[0m\u001b[0m\n",
      "\u001b[1;31mValueError\u001b[0m: dimension mismatch"
     ]
    }
   ],
   "source": [
    "prediction = NaiveBayes.predict(A)\n",
    "print(prediction)"
   ]
  },
  {
   "cell_type": "code",
   "execution_count": null,
   "metadata": {},
   "outputs": [],
   "source": []
  },
  {
   "cell_type": "code",
   "execution_count": null,
   "metadata": {},
   "outputs": [],
   "source": []
  }
 ],
 "metadata": {
  "kernelspec": {
   "display_name": "Python 3",
   "language": "python",
   "name": "python3"
  },
  "language_info": {
   "codemirror_mode": {
    "name": "ipython",
    "version": 3
   },
   "file_extension": ".py",
   "mimetype": "text/x-python",
   "name": "python",
   "nbconvert_exporter": "python",
   "pygments_lexer": "ipython3",
   "version": "3.8.3"
  }
 },
 "nbformat": 4,
 "nbformat_minor": 4
}

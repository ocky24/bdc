{
 "cells": [
  {
   "cell_type": "code",
   "execution_count": 201,
   "metadata": {},
   "outputs": [],
   "source": [
    "import pandas as pd\n",
    "import numpy as np"
   ]
  },
  {
   "cell_type": "code",
   "execution_count": 202,
   "metadata": {},
   "outputs": [],
   "source": [
    "df = pd.read_excel('E:\\BDC\\Data Latih BDC.xlsx')"
   ]
  },
  {
   "cell_type": "code",
   "execution_count": 203,
   "metadata": {},
   "outputs": [
    {
     "data": {
      "text/html": [
       "<div>\n",
       "<style scoped>\n",
       "    .dataframe tbody tr th:only-of-type {\n",
       "        vertical-align: middle;\n",
       "    }\n",
       "\n",
       "    .dataframe tbody tr th {\n",
       "        vertical-align: top;\n",
       "    }\n",
       "\n",
       "    .dataframe thead th {\n",
       "        text-align: right;\n",
       "    }\n",
       "</style>\n",
       "<table border=\"1\" class=\"dataframe\">\n",
       "  <thead>\n",
       "    <tr style=\"text-align: right;\">\n",
       "      <th></th>\n",
       "      <th>ID</th>\n",
       "      <th>label</th>\n",
       "      <th>tanggal</th>\n",
       "      <th>judul</th>\n",
       "      <th>narasi</th>\n",
       "      <th>nama file gambar</th>\n",
       "    </tr>\n",
       "  </thead>\n",
       "  <tbody>\n",
       "    <tr>\n",
       "      <th>0</th>\n",
       "      <td>71</td>\n",
       "      <td>1</td>\n",
       "      <td>2020-08-17 00:00:00</td>\n",
       "      <td>Pemakaian Masker Menyebabkan Penyakit Legionna...</td>\n",
       "      <td>A caller to a radio talk show recently shared ...</td>\n",
       "      <td>71.jpg</td>\n",
       "    </tr>\n",
       "    <tr>\n",
       "      <th>1</th>\n",
       "      <td>461</td>\n",
       "      <td>1</td>\n",
       "      <td>2020-07-17 00:00:00</td>\n",
       "      <td>Instruksi Gubernur Jateng tentang penilangan  ...</td>\n",
       "      <td>Yth.Seluruh Anggota Grup Sesuai Instruksi Gube...</td>\n",
       "      <td>461.png</td>\n",
       "    </tr>\n",
       "    <tr>\n",
       "      <th>2</th>\n",
       "      <td>495</td>\n",
       "      <td>1</td>\n",
       "      <td>2020-07-13 00:00:00</td>\n",
       "      <td>Foto Jim Rohn: Jokowi adalah presiden terbaik ...</td>\n",
       "      <td>Jokowi adalah presiden terbaik dlm sejarah ban...</td>\n",
       "      <td>495.png</td>\n",
       "    </tr>\n",
       "    <tr>\n",
       "      <th>3</th>\n",
       "      <td>550</td>\n",
       "      <td>1</td>\n",
       "      <td>2020-07-08 00:00:00</td>\n",
       "      <td>ini bukan politik, tapi kenyataan Pak Jokowi b...</td>\n",
       "      <td>Maaf Mas2 dan Mbak2, ini bukan politik, tapi k...</td>\n",
       "      <td>550.png</td>\n",
       "    </tr>\n",
       "    <tr>\n",
       "      <th>4</th>\n",
       "      <td>681</td>\n",
       "      <td>1</td>\n",
       "      <td>2020-06-24 00:00:00</td>\n",
       "      <td>Foto Kadrun kalo lihat foto ini panas dingin</td>\n",
       "      <td>Kadrun kalo lihat foto ini panas dingin . .</td>\n",
       "      <td>681.jpg</td>\n",
       "    </tr>\n",
       "  </tbody>\n",
       "</table>\n",
       "</div>"
      ],
      "text/plain": [
       "    ID  label              tanggal  \\\n",
       "0   71      1  2020-08-17 00:00:00   \n",
       "1  461      1  2020-07-17 00:00:00   \n",
       "2  495      1  2020-07-13 00:00:00   \n",
       "3  550      1  2020-07-08 00:00:00   \n",
       "4  681      1  2020-06-24 00:00:00   \n",
       "\n",
       "                                               judul  \\\n",
       "0  Pemakaian Masker Menyebabkan Penyakit Legionna...   \n",
       "1  Instruksi Gubernur Jateng tentang penilangan  ...   \n",
       "2  Foto Jim Rohn: Jokowi adalah presiden terbaik ...   \n",
       "3  ini bukan politik, tapi kenyataan Pak Jokowi b...   \n",
       "4       Foto Kadrun kalo lihat foto ini panas dingin   \n",
       "\n",
       "                                              narasi nama file gambar  \n",
       "0  A caller to a radio talk show recently shared ...           71.jpg  \n",
       "1  Yth.Seluruh Anggota Grup Sesuai Instruksi Gube...          461.png  \n",
       "2  Jokowi adalah presiden terbaik dlm sejarah ban...          495.png  \n",
       "3  Maaf Mas2 dan Mbak2, ini bukan politik, tapi k...          550.png  \n",
       "4        Kadrun kalo lihat foto ini panas dingin . .          681.jpg  "
      ]
     },
     "execution_count": 203,
     "metadata": {},
     "output_type": "execute_result"
    }
   ],
   "source": [
    "df.head()"
   ]
  },
  {
   "cell_type": "code",
   "execution_count": 204,
   "metadata": {},
   "outputs": [],
   "source": [
    "df = df.drop(\"tanggal\", axis=1)"
   ]
  },
  {
   "cell_type": "code",
   "execution_count": 205,
   "metadata": {},
   "outputs": [],
   "source": [
    "df = df.drop(\"ID\", axis=1)"
   ]
  },
  {
   "cell_type": "code",
   "execution_count": 206,
   "metadata": {},
   "outputs": [],
   "source": [
    "df = df.drop(\"nama file gambar\", axis=1)"
   ]
  },
  {
   "cell_type": "code",
   "execution_count": 207,
   "metadata": {},
   "outputs": [
    {
     "data": {
      "text/html": [
       "<div>\n",
       "<style scoped>\n",
       "    .dataframe tbody tr th:only-of-type {\n",
       "        vertical-align: middle;\n",
       "    }\n",
       "\n",
       "    .dataframe tbody tr th {\n",
       "        vertical-align: top;\n",
       "    }\n",
       "\n",
       "    .dataframe thead th {\n",
       "        text-align: right;\n",
       "    }\n",
       "</style>\n",
       "<table border=\"1\" class=\"dataframe\">\n",
       "  <thead>\n",
       "    <tr style=\"text-align: right;\">\n",
       "      <th></th>\n",
       "      <th>label</th>\n",
       "      <th>judul</th>\n",
       "      <th>narasi</th>\n",
       "    </tr>\n",
       "  </thead>\n",
       "  <tbody>\n",
       "    <tr>\n",
       "      <th>0</th>\n",
       "      <td>1</td>\n",
       "      <td>Pemakaian Masker Menyebabkan Penyakit Legionna...</td>\n",
       "      <td>A caller to a radio talk show recently shared ...</td>\n",
       "    </tr>\n",
       "    <tr>\n",
       "      <th>1</th>\n",
       "      <td>1</td>\n",
       "      <td>Instruksi Gubernur Jateng tentang penilangan  ...</td>\n",
       "      <td>Yth.Seluruh Anggota Grup Sesuai Instruksi Gube...</td>\n",
       "    </tr>\n",
       "    <tr>\n",
       "      <th>2</th>\n",
       "      <td>1</td>\n",
       "      <td>Foto Jim Rohn: Jokowi adalah presiden terbaik ...</td>\n",
       "      <td>Jokowi adalah presiden terbaik dlm sejarah ban...</td>\n",
       "    </tr>\n",
       "    <tr>\n",
       "      <th>3</th>\n",
       "      <td>1</td>\n",
       "      <td>ini bukan politik, tapi kenyataan Pak Jokowi b...</td>\n",
       "      <td>Maaf Mas2 dan Mbak2, ini bukan politik, tapi k...</td>\n",
       "    </tr>\n",
       "    <tr>\n",
       "      <th>4</th>\n",
       "      <td>1</td>\n",
       "      <td>Foto Kadrun kalo lihat foto ini panas dingin</td>\n",
       "      <td>Kadrun kalo lihat foto ini panas dingin . .</td>\n",
       "    </tr>\n",
       "    <tr>\n",
       "      <th>...</th>\n",
       "      <td>...</td>\n",
       "      <td>...</td>\n",
       "      <td>...</td>\n",
       "    </tr>\n",
       "    <tr>\n",
       "      <th>4226</th>\n",
       "      <td>1</td>\n",
       "      <td>: KPK Dilarang Membawa Brimob Bersenjata Masuk...</td>\n",
       "      <td>KPK Dilarang Membawa Brimob Bersenjata Masuk G...</td>\n",
       "    </tr>\n",
       "    <tr>\n",
       "      <th>4227</th>\n",
       "      <td>1</td>\n",
       "      <td>Foto pejabat keuangan dibawah palu arit</td>\n",
       "      <td>Jangan mau dialihkan kepada pakaian adat… FOKU...</td>\n",
       "    </tr>\n",
       "    <tr>\n",
       "      <th>4228</th>\n",
       "      <td>1</td>\n",
       "      <td>Gambar Denny Siregar Musuh Warga Tasikmalaya d...</td>\n",
       "      <td>Akhir nya bisa terkenal bang denny</td>\n",
       "    </tr>\n",
       "    <tr>\n",
       "      <th>4229</th>\n",
       "      <td>1</td>\n",
       "      <td>Kaesang: Bapak Saya dengan Kesederhaan Bisa Ni...</td>\n",
       "      <td>Bapak Saya dengan Kesederhaan Bisa Nipu Rakyat...</td>\n",
       "    </tr>\n",
       "    <tr>\n",
       "      <th>4230</th>\n",
       "      <td>1</td>\n",
       "      <td>Laser dari termometer gun akan merusak struktu...</td>\n",
       "      <td>IN: Saya nolak. Kalau Anda mau periksa, bukan ...</td>\n",
       "    </tr>\n",
       "  </tbody>\n",
       "</table>\n",
       "<p>4231 rows × 3 columns</p>\n",
       "</div>"
      ],
      "text/plain": [
       "      label                                              judul  \\\n",
       "0         1  Pemakaian Masker Menyebabkan Penyakit Legionna...   \n",
       "1         1  Instruksi Gubernur Jateng tentang penilangan  ...   \n",
       "2         1  Foto Jim Rohn: Jokowi adalah presiden terbaik ...   \n",
       "3         1  ini bukan politik, tapi kenyataan Pak Jokowi b...   \n",
       "4         1       Foto Kadrun kalo lihat foto ini panas dingin   \n",
       "...     ...                                                ...   \n",
       "4226      1  : KPK Dilarang Membawa Brimob Bersenjata Masuk...   \n",
       "4227      1            Foto pejabat keuangan dibawah palu arit   \n",
       "4228      1  Gambar Denny Siregar Musuh Warga Tasikmalaya d...   \n",
       "4229      1  Kaesang: Bapak Saya dengan Kesederhaan Bisa Ni...   \n",
       "4230      1  Laser dari termometer gun akan merusak struktu...   \n",
       "\n",
       "                                                 narasi  \n",
       "0     A caller to a radio talk show recently shared ...  \n",
       "1     Yth.Seluruh Anggota Grup Sesuai Instruksi Gube...  \n",
       "2     Jokowi adalah presiden terbaik dlm sejarah ban...  \n",
       "3     Maaf Mas2 dan Mbak2, ini bukan politik, tapi k...  \n",
       "4           Kadrun kalo lihat foto ini panas dingin . .  \n",
       "...                                                 ...  \n",
       "4226  KPK Dilarang Membawa Brimob Bersenjata Masuk G...  \n",
       "4227  Jangan mau dialihkan kepada pakaian adat… FOKU...  \n",
       "4228                 Akhir nya bisa terkenal bang denny  \n",
       "4229  Bapak Saya dengan Kesederhaan Bisa Nipu Rakyat...  \n",
       "4230  IN: Saya nolak. Kalau Anda mau periksa, bukan ...  \n",
       "\n",
       "[4231 rows x 3 columns]"
      ]
     },
     "execution_count": 207,
     "metadata": {},
     "output_type": "execute_result"
    }
   ],
   "source": [
    "df"
   ]
  },
  {
   "cell_type": "code",
   "execution_count": 208,
   "metadata": {},
   "outputs": [],
   "source": [
    "df = df[0:4231]"
   ]
  },
  {
   "cell_type": "code",
   "execution_count": 209,
   "metadata": {},
   "outputs": [
    {
     "data": {
      "text/html": [
       "<div>\n",
       "<style scoped>\n",
       "    .dataframe tbody tr th:only-of-type {\n",
       "        vertical-align: middle;\n",
       "    }\n",
       "\n",
       "    .dataframe tbody tr th {\n",
       "        vertical-align: top;\n",
       "    }\n",
       "\n",
       "    .dataframe thead th {\n",
       "        text-align: right;\n",
       "    }\n",
       "</style>\n",
       "<table border=\"1\" class=\"dataframe\">\n",
       "  <thead>\n",
       "    <tr style=\"text-align: right;\">\n",
       "      <th></th>\n",
       "      <th>label</th>\n",
       "      <th>judul</th>\n",
       "      <th>narasi</th>\n",
       "    </tr>\n",
       "  </thead>\n",
       "  <tbody>\n",
       "    <tr>\n",
       "      <th>0</th>\n",
       "      <td>1</td>\n",
       "      <td>Pemakaian Masker Menyebabkan Penyakit Legionna...</td>\n",
       "      <td>A caller to a radio talk show recently shared ...</td>\n",
       "    </tr>\n",
       "    <tr>\n",
       "      <th>1</th>\n",
       "      <td>1</td>\n",
       "      <td>Instruksi Gubernur Jateng tentang penilangan  ...</td>\n",
       "      <td>Yth.Seluruh Anggota Grup Sesuai Instruksi Gube...</td>\n",
       "    </tr>\n",
       "    <tr>\n",
       "      <th>2</th>\n",
       "      <td>1</td>\n",
       "      <td>Foto Jim Rohn: Jokowi adalah presiden terbaik ...</td>\n",
       "      <td>Jokowi adalah presiden terbaik dlm sejarah ban...</td>\n",
       "    </tr>\n",
       "    <tr>\n",
       "      <th>3</th>\n",
       "      <td>1</td>\n",
       "      <td>ini bukan politik, tapi kenyataan Pak Jokowi b...</td>\n",
       "      <td>Maaf Mas2 dan Mbak2, ini bukan politik, tapi k...</td>\n",
       "    </tr>\n",
       "    <tr>\n",
       "      <th>4</th>\n",
       "      <td>1</td>\n",
       "      <td>Foto Kadrun kalo lihat foto ini panas dingin</td>\n",
       "      <td>Kadrun kalo lihat foto ini panas dingin . .</td>\n",
       "    </tr>\n",
       "    <tr>\n",
       "      <th>...</th>\n",
       "      <td>...</td>\n",
       "      <td>...</td>\n",
       "      <td>...</td>\n",
       "    </tr>\n",
       "    <tr>\n",
       "      <th>4226</th>\n",
       "      <td>1</td>\n",
       "      <td>: KPK Dilarang Membawa Brimob Bersenjata Masuk...</td>\n",
       "      <td>KPK Dilarang Membawa Brimob Bersenjata Masuk G...</td>\n",
       "    </tr>\n",
       "    <tr>\n",
       "      <th>4227</th>\n",
       "      <td>1</td>\n",
       "      <td>Foto pejabat keuangan dibawah palu arit</td>\n",
       "      <td>Jangan mau dialihkan kepada pakaian adat… FOKU...</td>\n",
       "    </tr>\n",
       "    <tr>\n",
       "      <th>4228</th>\n",
       "      <td>1</td>\n",
       "      <td>Gambar Denny Siregar Musuh Warga Tasikmalaya d...</td>\n",
       "      <td>Akhir nya bisa terkenal bang denny</td>\n",
       "    </tr>\n",
       "    <tr>\n",
       "      <th>4229</th>\n",
       "      <td>1</td>\n",
       "      <td>Kaesang: Bapak Saya dengan Kesederhaan Bisa Ni...</td>\n",
       "      <td>Bapak Saya dengan Kesederhaan Bisa Nipu Rakyat...</td>\n",
       "    </tr>\n",
       "    <tr>\n",
       "      <th>4230</th>\n",
       "      <td>1</td>\n",
       "      <td>Laser dari termometer gun akan merusak struktu...</td>\n",
       "      <td>IN: Saya nolak. Kalau Anda mau periksa, bukan ...</td>\n",
       "    </tr>\n",
       "  </tbody>\n",
       "</table>\n",
       "<p>4231 rows × 3 columns</p>\n",
       "</div>"
      ],
      "text/plain": [
       "      label                                              judul  \\\n",
       "0         1  Pemakaian Masker Menyebabkan Penyakit Legionna...   \n",
       "1         1  Instruksi Gubernur Jateng tentang penilangan  ...   \n",
       "2         1  Foto Jim Rohn: Jokowi adalah presiden terbaik ...   \n",
       "3         1  ini bukan politik, tapi kenyataan Pak Jokowi b...   \n",
       "4         1       Foto Kadrun kalo lihat foto ini panas dingin   \n",
       "...     ...                                                ...   \n",
       "4226      1  : KPK Dilarang Membawa Brimob Bersenjata Masuk...   \n",
       "4227      1            Foto pejabat keuangan dibawah palu arit   \n",
       "4228      1  Gambar Denny Siregar Musuh Warga Tasikmalaya d...   \n",
       "4229      1  Kaesang: Bapak Saya dengan Kesederhaan Bisa Ni...   \n",
       "4230      1  Laser dari termometer gun akan merusak struktu...   \n",
       "\n",
       "                                                 narasi  \n",
       "0     A caller to a radio talk show recently shared ...  \n",
       "1     Yth.Seluruh Anggota Grup Sesuai Instruksi Gube...  \n",
       "2     Jokowi adalah presiden terbaik dlm sejarah ban...  \n",
       "3     Maaf Mas2 dan Mbak2, ini bukan politik, tapi k...  \n",
       "4           Kadrun kalo lihat foto ini panas dingin . .  \n",
       "...                                                 ...  \n",
       "4226  KPK Dilarang Membawa Brimob Bersenjata Masuk G...  \n",
       "4227  Jangan mau dialihkan kepada pakaian adat… FOKU...  \n",
       "4228                 Akhir nya bisa terkenal bang denny  \n",
       "4229  Bapak Saya dengan Kesederhaan Bisa Nipu Rakyat...  \n",
       "4230  IN: Saya nolak. Kalau Anda mau periksa, bukan ...  \n",
       "\n",
       "[4231 rows x 3 columns]"
      ]
     },
     "execution_count": 209,
     "metadata": {},
     "output_type": "execute_result"
    }
   ],
   "source": [
    "df"
   ]
  },
  {
   "cell_type": "code",
   "execution_count": 210,
   "metadata": {},
   "outputs": [],
   "source": [
    "Y = df.iloc[:,:-2].values"
   ]
  },
  {
   "cell_type": "code",
   "execution_count": 211,
   "metadata": {},
   "outputs": [
    {
     "data": {
      "text/plain": [
       "array([1], dtype=int64)"
      ]
     },
     "execution_count": 211,
     "metadata": {},
     "output_type": "execute_result"
    }
   ],
   "source": [
    "Y[0]"
   ]
  },
  {
   "cell_type": "code",
   "execution_count": 212,
   "metadata": {},
   "outputs": [],
   "source": [
    "X = df.loc[:, 'judul':'narasi'].values"
   ]
  },
  {
   "cell_type": "code",
   "execution_count": 213,
   "metadata": {},
   "outputs": [
    {
     "data": {
      "text/plain": [
       "array(['Instruksi Gubernur Jateng tentang penilangan  bagi yg tidak bermasker di muka umum Rp.150.000 menggunakan e-tilang Via apps PIKOBAR',\n",
       "       'Yth.Seluruh Anggota Grup Sesuai Instruksi Gubernur Jawa Tengah Hasil Rapat Tim Gugus Tugas Covid 19 Jateng sbb:'],\n",
       "      dtype=object)"
      ]
     },
     "execution_count": 213,
     "metadata": {},
     "output_type": "execute_result"
    }
   ],
   "source": [
    "X[1]"
   ]
  },
  {
   "cell_type": "code",
   "execution_count": 214,
   "metadata": {},
   "outputs": [],
   "source": [
    "from sklearn.feature_extraction.text import CountVectorizer\n",
    "cv = CountVectorizer(max_features=5000)\n",
    "mat_body = cv.fit_transform(X[:,1]).todense()"
   ]
  },
  {
   "cell_type": "code",
   "execution_count": 215,
   "metadata": {},
   "outputs": [
    {
     "data": {
      "text/plain": [
       "matrix([[0, 0, 0, ..., 0, 0, 0],\n",
       "        [0, 0, 0, ..., 0, 0, 0],\n",
       "        [0, 0, 0, ..., 0, 0, 0],\n",
       "        ...,\n",
       "        [0, 0, 0, ..., 0, 0, 0],\n",
       "        [0, 0, 0, ..., 0, 0, 0],\n",
       "        [0, 0, 0, ..., 0, 0, 0]], dtype=int64)"
      ]
     },
     "execution_count": 215,
     "metadata": {},
     "output_type": "execute_result"
    }
   ],
   "source": [
    "mat_body"
   ]
  },
  {
   "cell_type": "code",
   "execution_count": 216,
   "metadata": {},
   "outputs": [],
   "source": [
    "cv_head = CountVectorizer(max_features=5000)\n",
    "mat_head = cv_head.fit_transform(X[:,0]).todense()"
   ]
  },
  {
   "cell_type": "code",
   "execution_count": 217,
   "metadata": {},
   "outputs": [
    {
     "data": {
      "text/plain": [
       "matrix([[0, 0, 0, ..., 0, 0, 0],\n",
       "        [0, 1, 0, ..., 0, 0, 0],\n",
       "        [0, 0, 0, ..., 0, 0, 0],\n",
       "        ...,\n",
       "        [0, 0, 0, ..., 0, 0, 0],\n",
       "        [0, 0, 0, ..., 0, 0, 0],\n",
       "        [0, 0, 0, ..., 0, 0, 0]], dtype=int64)"
      ]
     },
     "execution_count": 217,
     "metadata": {},
     "output_type": "execute_result"
    }
   ],
   "source": [
    "mat_head"
   ]
  },
  {
   "cell_type": "code",
   "execution_count": 218,
   "metadata": {},
   "outputs": [],
   "source": [
    "X_mat = np.hstack((mat_head, mat_body))"
   ]
  },
  {
   "cell_type": "code",
   "execution_count": 244,
   "metadata": {},
   "outputs": [],
   "source": [
    "from sklearn.model_selection import train_test_split\n",
    "X_train, X_test, Y_train, Y_test = train_test_split(X_mat, Y, test_size=0.2, random_state=0)"
   ]
  },
  {
   "cell_type": "code",
   "execution_count": 245,
   "metadata": {
    "scrolled": true
   },
   "outputs": [],
   "source": [
    "from sklearn.tree import DecisionTreeClassifier\n",
    "dtc = DecisionTreeClassifier(criterion='entropy')\n",
    "dtc.fit(X_train, Y_train)\n",
    "Y_pred= dtc.predict(X_test)"
   ]
  },
  {
   "cell_type": "code",
   "execution_count": 246,
   "metadata": {},
   "outputs": [
    {
     "data": {
      "text/plain": [
       "array([[ 65,  94],\n",
       "       [ 59, 629]], dtype=int64)"
      ]
     },
     "execution_count": 246,
     "metadata": {},
     "output_type": "execute_result"
    }
   ],
   "source": [
    "from sklearn.metrics import confusion_matrix\n",
    "confusion_matrix(Y_test, Y_pred)"
   ]
  },
  {
   "cell_type": "code",
   "execution_count": 248,
   "metadata": {},
   "outputs": [
    {
     "data": {
      "text/plain": [
       "0.8193624557260921"
      ]
     },
     "execution_count": 248,
     "metadata": {},
     "output_type": "execute_result"
    }
   ],
   "source": [
    "(65+629)/(65+629+94+59)"
   ]
  },
  {
   "cell_type": "code",
   "execution_count": null,
   "metadata": {},
   "outputs": [],
   "source": []
  },
  {
   "cell_type": "code",
   "execution_count": null,
   "metadata": {},
   "outputs": [],
   "source": []
  },
  {
   "cell_type": "code",
   "execution_count": null,
   "metadata": {},
   "outputs": [],
   "source": []
  }
 ],
 "metadata": {
  "kernelspec": {
   "display_name": "Python 3",
   "language": "python",
   "name": "python3"
  },
  "language_info": {
   "codemirror_mode": {
    "name": "ipython",
    "version": 3
   },
   "file_extension": ".py",
   "mimetype": "text/x-python",
   "name": "python",
   "nbconvert_exporter": "python",
   "pygments_lexer": "ipython3",
   "version": "3.8.3"
  }
 },
 "nbformat": 4,
 "nbformat_minor": 4
}
